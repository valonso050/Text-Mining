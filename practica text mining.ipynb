{
 "cells": [
  {
   "cell_type": "markdown",
   "id": "5640915b",
   "metadata": {},
   "source": [
    "# Práctica 1 - Text-Mining\n",
    "<div style=\"border-top: 2px solid white; width: 550px; margin: 5px 0;\"></div>\n",
    "\n",
    "### Asignatura de Minería de Datos | Universidad Carlos III de Madrid\n",
    "<div style=\"border: 2px solid white; padding: 10px; width: fit-content;\">\n",
    "Alonso Velázquez Torres<br>\n",
    "Jorge López García<br>\n",
    "Isaac Gil Vélez<br>\n",
    "Carlos Balsa Gómez<br>\n",
    "</div>"
   ]
  },
  {
   "cell_type": "markdown",
   "id": "eb0431e1",
   "metadata": {},
   "source": [
    "*AQUÍ PONER INTRODUCCIÓN A LA PRÁCTICA*"
   ]
  },
  {
   "cell_type": "markdown",
   "id": "5f0bb200",
   "metadata": {},
   "source": [
    "El primer paso, como en todo proyecto de programación, es importar todas las librerías que necesitaremos:"
   ]
  },
  {
   "cell_type": "code",
   "execution_count": 3,
   "id": "b2fb7d77",
   "metadata": {},
   "outputs": [],
   "source": [
    "import pandas as pd"
   ]
  },
  {
   "cell_type": "markdown",
   "id": "7faa5e68",
   "metadata": {},
   "source": [
    "Realizaremos nuestra práctica de text mining sobre el dataset de NoticIA, por tanto, lo primero que debemos hacer es importarlo y a su vez para ello necesitaremos importar la función load_datasets del paquete datasets."
   ]
  },
  {
   "cell_type": "code",
   "execution_count": 4,
   "id": "535a8fe8",
   "metadata": {},
   "outputs": [
    {
     "name": "stderr",
     "output_type": "stream",
     "text": [
      "e:\\Universidad\\AÑO 4\\Mineria de datos\\.venv\\Lib\\site-packages\\tqdm\\auto.py:21: TqdmWarning: IProgress not found. Please update jupyter and ipywidgets. See https://ipywidgets.readthedocs.io/en/stable/user_install.html\n",
      "  from .autonotebook import tqdm as notebook_tqdm\n"
     ]
    }
   ],
   "source": [
    "from datasets import load_dataset\n",
    "ds = load_dataset('Iker/NoticIA')"
   ]
  },
  {
   "cell_type": "markdown",
   "id": "b9425716",
   "metadata": {},
   "source": [
    "Como se puede ver en el output del bloque de código anterior, el dataset ya viene dividido en índices de entrenamiento, validación y test.\n",
    "Como no nos interesa entrenar ningún modelo en esta práctica, los concatenaremos en un sólo dataset para disponer de mayor cantidad de texto. Lo haremos según sigue:"
   ]
  },
  {
   "cell_type": "code",
   "execution_count": 5,
   "id": "1bc91d1b",
   "metadata": {},
   "outputs": [],
   "source": [
    "df = pd.concat([\n",
    " ds['train'].to_pandas(),\n",
    " ds['validation'].to_pandas(),\n",
    " ds['test'].to_pandas()\n",
    " ], ignore_index=True)"
   ]
  },
  {
   "cell_type": "markdown",
   "id": "b40917d1",
   "metadata": {},
   "source": [
    "Ahora que ya tenemos un único dataset, vamos a proceder a ejecutar algunas funciones de análisis exploratorio:"
   ]
  },
  {
   "cell_type": "code",
   "execution_count": null,
   "id": "d305c7ed",
   "metadata": {},
   "outputs": [
    {
     "name": "stdout",
     "output_type": "stream",
     "text": [
      "3400\n",
      "(850, 4)\n",
      "Index(['web_url', 'web_headline', 'summary', 'web_text'], dtype='object')\n"
     ]
    },
    {
     "data": {
      "text/html": [
       "<div>\n",
       "<style scoped>\n",
       "    .dataframe tbody tr th:only-of-type {\n",
       "        vertical-align: middle;\n",
       "    }\n",
       "\n",
       "    .dataframe tbody tr th {\n",
       "        vertical-align: top;\n",
       "    }\n",
       "\n",
       "    .dataframe thead th {\n",
       "        text-align: right;\n",
       "    }\n",
       "</style>\n",
       "<table border=\"1\" class=\"dataframe\">\n",
       "  <thead>\n",
       "    <tr style=\"text-align: right;\">\n",
       "      <th></th>\n",
       "      <th>web_url</th>\n",
       "      <th>web_headline</th>\n",
       "      <th>summary</th>\n",
       "      <th>web_text</th>\n",
       "    </tr>\n",
       "  </thead>\n",
       "  <tbody>\n",
       "    <tr>\n",
       "      <th>0</th>\n",
       "      <td>https://www.informacion.es/medio-ambiente/2023...</td>\n",
       "      <td>JORGE REY: EL TIEMPO | La impactante predicció...</td>\n",
       "      <td>El inicio de un periodo frío intenso.</td>\n",
       "      <td>27·11·23 | 08:34 | Actualizado a las 14:47\\nJO...</td>\n",
       "    </tr>\n",
       "    <tr>\n",
       "      <th>1</th>\n",
       "      <td>https://buff.ly/3Rdqz2K</td>\n",
       "      <td>El cambio en las matrículas que se espera para...</td>\n",
       "      <td>Se dará el salto a la letra M.</td>\n",
       "      <td>Si eres de los que sigues el avance de las mat...</td>\n",
       "    </tr>\n",
       "    <tr>\n",
       "      <th>2</th>\n",
       "      <td>https://www.cope.es/n/2978369</td>\n",
       "      <td>Si no avisas a la DGT de este cambio en tu coc...</td>\n",
       "      <td>500 euros por pintar un coche de otro color y ...</td>\n",
       "      <td>Con Pilar Cisneros y Fernando de Haro\\nCon Pac...</td>\n",
       "    </tr>\n",
       "    <tr>\n",
       "      <th>3</th>\n",
       "      <td>https://www.genbeta.com/p/316184</td>\n",
       "      <td>Estos serán los lenguajes de programación con ...</td>\n",
       "      <td>Python y JavaScript.</td>\n",
       "      <td>Si con el año nuevo te has propuesto aumentar ...</td>\n",
       "    </tr>\n",
       "    <tr>\n",
       "      <th>4</th>\n",
       "      <td>https://buff.ly/47SBCap</td>\n",
       "      <td>Cambio de estrategia en Microsoft: Windows 12 ...</td>\n",
       "      <td>Solo un 28.6% de los usuarios actuales de Wind...</td>\n",
       "      <td>Desde hace ya varios meses, las especulaciones...</td>\n",
       "    </tr>\n",
       "  </tbody>\n",
       "</table>\n",
       "</div>"
      ],
      "text/plain": [
       "                                             web_url  \\\n",
       "0  https://www.informacion.es/medio-ambiente/2023...   \n",
       "1                            https://buff.ly/3Rdqz2K   \n",
       "2                      https://www.cope.es/n/2978369   \n",
       "3                   https://www.genbeta.com/p/316184   \n",
       "4                            https://buff.ly/47SBCap   \n",
       "\n",
       "                                        web_headline  \\\n",
       "0  JORGE REY: EL TIEMPO | La impactante predicció...   \n",
       "1  El cambio en las matrículas que se espera para...   \n",
       "2  Si no avisas a la DGT de este cambio en tu coc...   \n",
       "3  Estos serán los lenguajes de programación con ...   \n",
       "4  Cambio de estrategia en Microsoft: Windows 12 ...   \n",
       "\n",
       "                                             summary  \\\n",
       "0              El inicio de un periodo frío intenso.   \n",
       "1                     Se dará el salto a la letra M.   \n",
       "2  500 euros por pintar un coche de otro color y ...   \n",
       "3                               Python y JavaScript.   \n",
       "4  Solo un 28.6% de los usuarios actuales de Wind...   \n",
       "\n",
       "                                            web_text  \n",
       "0  27·11·23 | 08:34 | Actualizado a las 14:47\\nJO...  \n",
       "1  Si eres de los que sigues el avance de las mat...  \n",
       "2  Con Pilar Cisneros y Fernando de Haro\\nCon Pac...  \n",
       "3  Si con el año nuevo te has propuesto aumentar ...  \n",
       "4  Desde hace ya varios meses, las especulaciones...  "
      ]
     },
     "execution_count": 14,
     "metadata": {},
     "output_type": "execute_result"
    }
   ],
   "source": [
    "print(df.size)\n",
    "print(df.shape)\n",
    "print(df.columns)\n",
    "df.head()"
   ]
  },
  {
   "cell_type": "markdown",
   "id": "40acc276",
   "metadata": {},
   "source": [
    "Vemos que el dataset contiene 3400 elementos, ordenados en 850 entradas para cada una de las 4 columnas del dataset.\n",
    "Las columnas hacen referencia a la url de cada noticia, su título, un resumen de su contenido y su contenido en sí.\n",
    "\n",
    "También podemos identificar que los textos están en español, mezclan minúsculas con mayúsculas, y a veces incluyen letras u otros símbolos."
   ]
  },
  {
   "cell_type": "markdown",
   "id": "afced5d8",
   "metadata": {},
   "source": [
    "### Preprocesamiento del texto\n",
    "Como estamos trabajando con un conjunto de datos no estructurado de tipo texto, no podemos aplicar otras técnicas de análisis exploratorio de datos como medias, frecuencias o correlaciones. \n",
    "\n",
    "En su lugar, tendremos que realizar lo que se conoce como preprocesamiento del texto."
   ]
  },
  {
   "cell_type": "code",
   "execution_count": null,
   "id": "81611afe",
   "metadata": {},
   "outputs": [],
   "source": []
  }
 ],
 "metadata": {
  "kernelspec": {
   "display_name": "mineria-de-datos",
   "language": "python",
   "name": "python3"
  },
  "language_info": {
   "codemirror_mode": {
    "name": "ipython",
    "version": 3
   },
   "file_extension": ".py",
   "mimetype": "text/x-python",
   "name": "python",
   "nbconvert_exporter": "python",
   "pygments_lexer": "ipython3",
   "version": "3.13.5"
  }
 },
 "nbformat": 4,
 "nbformat_minor": 5
}
