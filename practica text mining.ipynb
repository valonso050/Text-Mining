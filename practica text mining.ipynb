{
 "cells": [
  {
   "cell_type": "markdown",
   "id": "5640915b",
   "metadata": {},
   "source": [
    "# Práctica sobre Text-Mining\n",
    "## Minería de Datos\n",
    "### Alonso Velázquez Torres\n",
    "### Jorge López García\n",
    "### Isaac Gil Vélez\n",
    "### Carlos Balsa Gómez"
   ]
  },
  {
   "cell_type": "markdown",
   "id": "5f0bb200",
   "metadata": {},
   "source": [
    "El primer paso, como en todo proyecto de programación, es importar todas las librerías que necesitaremos:"
   ]
  },
  {
   "cell_type": "code",
   "execution_count": 4,
   "id": "b2fb7d77",
   "metadata": {},
   "outputs": [],
   "source": [
    "import pandas as pd"
   ]
  },
  {
   "cell_type": "markdown",
   "id": "7faa5e68",
   "metadata": {},
   "source": [
    "Realizaremos nuestra práctica de text mining sobre el dataset de NoticIA, por tanto, lo primero que debemos hacer es importarlo y a su vez para ello necesitaremos importar la función load_datasets del paquete datasets"
   ]
  },
  {
   "cell_type": "code",
   "execution_count": 2,
   "id": "535a8fe8",
   "metadata": {},
   "outputs": [
    {
     "name": "stderr",
     "output_type": "stream",
     "text": [
      "e:\\Universidad\\AÑO 4\\Mineria de datos\\.venv\\Lib\\site-packages\\tqdm\\auto.py:21: TqdmWarning: IProgress not found. Please update jupyter and ipywidgets. See https://ipywidgets.readthedocs.io/en/stable/user_install.html\n",
      "  from .autonotebook import tqdm as notebook_tqdm\n",
      "e:\\Universidad\\AÑO 4\\Mineria de datos\\.venv\\Lib\\site-packages\\huggingface_hub\\file_download.py:143: UserWarning: `huggingface_hub` cache-system uses symlinks by default to efficiently store duplicated files but your machine does not support them in C:\\Users\\USUARIO\\.cache\\huggingface\\hub\\datasets--Iker--NoticIA. Caching files will still work but in a degraded version that might require more space on your disk. This warning can be disabled by setting the `HF_HUB_DISABLE_SYMLINKS_WARNING` environment variable. For more details, see https://huggingface.co/docs/huggingface_hub/how-to-cache#limitations.\n",
      "To support symlinks on Windows, you either need to activate Developer Mode or to run Python as an administrator. In order to activate developer mode, see this article: https://docs.microsoft.com/en-us/windows/apps/get-started/enable-your-device-for-development\n",
      "  warnings.warn(message)\n",
      "Xet Storage is enabled for this repo, but the 'hf_xet' package is not installed. Falling back to regular HTTP download. For better performance, install the package with: `pip install huggingface_hub[hf_xet]` or `pip install hf_xet`\n",
      "Xet Storage is enabled for this repo, but the 'hf_xet' package is not installed. Falling back to regular HTTP download. For better performance, install the package with: `pip install huggingface_hub[hf_xet]` or `pip install hf_xet`\n",
      "Xet Storage is enabled for this repo, but the 'hf_xet' package is not installed. Falling back to regular HTTP download. For better performance, install the package with: `pip install huggingface_hub[hf_xet]` or `pip install hf_xet`\n",
      "Generating train split: 100%|██████████| 700/700 [00:00<00:00, 12456.78 examples/s]\n",
      "Generating validation split: 100%|██████████| 50/50 [00:00<00:00, 5234.11 examples/s]\n",
      "Generating test split: 100%|██████████| 100/100 [00:00<00:00, 8129.76 examples/s]\n"
     ]
    }
   ],
   "source": [
    "from datasets import load_dataset\n",
    "ds = load_dataset('Iker/NoticIA')"
   ]
  },
  {
   "cell_type": "markdown",
   "id": "b9425716",
   "metadata": {},
   "source": [
    "Como se puede ver en el output del bloque de código anterior, el dataset ya viene dividido en índices de entrenamiento, validación y test.\n",
    "Como no nos interesa entrenar ningún modelo en esta práctica, los concatenaremos en un sólo dataset para disponer de mayor cantidad de texto. Lo haremos según sigue:"
   ]
  },
  {
   "cell_type": "code",
   "execution_count": 5,
   "id": "1bc91d1b",
   "metadata": {},
   "outputs": [],
   "source": [
    "df = pd.concat([\n",
    " ds['train'].to_pandas(),\n",
    " ds['validation'].to_pandas(),\n",
    " ds['test'].to_pandas()\n",
    " ], ignore_index=True)"
   ]
  },
  {
   "cell_type": "markdown",
   "id": "b40917d1",
   "metadata": {},
   "source": [
    "Ahora que ya tenemos un único dataset, vamos a proceder a ejecutar algunas funciones de análisis exploratorio:"
   ]
  },
  {
   "cell_type": "code",
   "execution_count": null,
   "id": "79de4dd0",
   "metadata": {},
   "outputs": [],
   "source": []
  }
 ],
 "metadata": {
  "kernelspec": {
   "display_name": "mineria-de-datos",
   "language": "python",
   "name": "python3"
  },
  "language_info": {
   "codemirror_mode": {
    "name": "ipython",
    "version": 3
   },
   "file_extension": ".py",
   "mimetype": "text/x-python",
   "name": "python",
   "nbconvert_exporter": "python",
   "pygments_lexer": "ipython3",
   "version": "3.13.5"
  }
 },
 "nbformat": 4,
 "nbformat_minor": 5
}
